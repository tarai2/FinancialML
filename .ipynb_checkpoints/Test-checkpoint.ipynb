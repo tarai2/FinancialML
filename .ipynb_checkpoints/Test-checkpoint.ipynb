{
 "cells": [
  {
   "cell_type": "code",
   "execution_count": 1,
   "metadata": {
    "ExecuteTime": {
     "end_time": "2020-03-22T13:07:39.514317Z",
     "start_time": "2020-03-22T13:07:39.495243Z"
    }
   },
   "outputs": [],
   "source": [
    "from bar import *"
   ]
  },
  {
   "cell_type": "code",
   "execution_count": 40,
   "metadata": {
    "ExecuteTime": {
     "end_time": "2020-03-10T06:41:13.576160Z",
     "start_time": "2020-03-10T06:41:13.434823Z"
    }
   },
   "outputs": [],
   "source": [
    "act = pd.read_hdf(\"../../CryptData/Liquid/BTCJPY/market_activity/2020_03_01.hdf\")"
   ]
  },
  {
   "cell_type": "code",
   "execution_count": 43,
   "metadata": {
    "ExecuteTime": {
     "end_time": "2020-03-10T06:41:18.160996Z",
     "start_time": "2020-03-10T06:41:18.143449Z"
    }
   },
   "outputs": [],
   "source": [
    "bar = get_volbar(act, 1)"
   ]
  },
  {
   "cell_type": "code",
   "execution_count": 44,
   "metadata": {
    "ExecuteTime": {
     "end_time": "2020-03-10T06:41:18.494853Z",
     "start_time": "2020-03-10T06:41:18.479882Z"
    }
   },
   "outputs": [
    {
     "data": {
      "text/plain": [
       "10.593893781430149"
      ]
     },
     "execution_count": 44,
     "metadata": {},
     "output_type": "execute_result"
    }
   ],
   "source": [
    "(np.diff(bar).astype(float)/1e9).mean()"
   ]
  },
  {
   "cell_type": "markdown",
   "metadata": {},
   "source": [
    "---"
   ]
  },
  {
   "cell_type": "code",
   "execution_count": 8,
   "metadata": {
    "ExecuteTime": {
     "end_time": "2020-03-22T13:23:48.222507Z",
     "start_time": "2020-03-22T13:23:48.213075Z"
    }
   },
   "outputs": [],
   "source": [
    "plt.rcParams[\"figure.figsize\"] = (13,5)\n",
    "from labeling import integratedReturn"
   ]
  },
  {
   "cell_type": "code",
   "execution_count": 9,
   "metadata": {
    "ExecuteTime": {
     "end_time": "2020-03-22T13:23:48.723462Z",
     "start_time": "2020-03-22T13:23:48.685521Z"
    }
   },
   "outputs": [],
   "source": [
    "lv1 = pd.read_hdf(\"../../CryptData/Liquid/BTCJPY/lv1/2020_03_01.hdf\")"
   ]
  },
  {
   "cell_type": "code",
   "execution_count": 10,
   "metadata": {
    "ExecuteTime": {
     "end_time": "2020-03-22T13:23:49.074195Z",
     "start_time": "2020-03-22T13:23:49.027363Z"
    }
   },
   "outputs": [
    {
     "data": {
      "text/html": [
       "<div>\n",
       "<style scoped>\n",
       "    .dataframe tbody tr th:only-of-type {\n",
       "        vertical-align: middle;\n",
       "    }\n",
       "\n",
       "    .dataframe tbody tr th {\n",
       "        vertical-align: top;\n",
       "    }\n",
       "\n",
       "    .dataframe thead th {\n",
       "        text-align: right;\n",
       "    }\n",
       "</style>\n",
       "<table border=\"1\" class=\"dataframe\">\n",
       "  <thead>\n",
       "    <tr style=\"text-align: right;\">\n",
       "      <th></th>\n",
       "      <th>symbol</th>\n",
       "      <th>bestBid</th>\n",
       "      <th>bestAsk</th>\n",
       "      <th>midPrice</th>\n",
       "    </tr>\n",
       "    <tr>\n",
       "      <th>rcvTime</th>\n",
       "      <th></th>\n",
       "      <th></th>\n",
       "      <th></th>\n",
       "      <th></th>\n",
       "    </tr>\n",
       "  </thead>\n",
       "  <tbody>\n",
       "    <tr>\n",
       "      <th>2020-03-01 00:00:00.386</th>\n",
       "      <td>BTCJPY</td>\n",
       "      <td>934209.0</td>\n",
       "      <td>934286.0</td>\n",
       "      <td>934247.5</td>\n",
       "    </tr>\n",
       "    <tr>\n",
       "      <th>2020-03-01 00:00:01.013</th>\n",
       "      <td>BTCJPY</td>\n",
       "      <td>934291.0</td>\n",
       "      <td>934286.0</td>\n",
       "      <td>934288.5</td>\n",
       "    </tr>\n",
       "    <tr>\n",
       "      <th>2020-03-01 00:00:01.018</th>\n",
       "      <td>BTCJPY</td>\n",
       "      <td>934291.0</td>\n",
       "      <td>934351.0</td>\n",
       "      <td>934321.0</td>\n",
       "    </tr>\n",
       "  </tbody>\n",
       "</table>\n",
       "</div>"
      ],
      "text/plain": [
       "                         symbol   bestBid   bestAsk  midPrice\n",
       "rcvTime                                                      \n",
       "2020-03-01 00:00:00.386  BTCJPY  934209.0  934286.0  934247.5\n",
       "2020-03-01 00:00:01.013  BTCJPY  934291.0  934286.0  934288.5\n",
       "2020-03-01 00:00:01.018  BTCJPY  934291.0  934351.0  934321.0"
      ]
     },
     "execution_count": 10,
     "metadata": {},
     "output_type": "execute_result"
    }
   ],
   "source": [
    "lv1.head(3)"
   ]
  },
  {
   "cell_type": "code",
   "execution_count": 11,
   "metadata": {
    "ExecuteTime": {
     "end_time": "2020-03-22T13:23:49.540268Z",
     "start_time": "2020-03-22T13:23:49.525274Z"
    }
   },
   "outputs": [],
   "source": [
    "events = lv1.index[sorted(np.random.choice(lv1.shape[0], 5))]"
   ]
  },
  {
   "cell_type": "code",
   "execution_count": 31,
   "metadata": {
    "ExecuteTime": {
     "end_time": "2020-03-22T13:33:52.940333Z",
     "start_time": "2020-03-22T13:33:52.786525Z"
    }
   },
   "outputs": [
    {
     "data": {
      "image/png": "[encoded data removed]",
      "text/plain": [
       "<Figure size 936x360 with 1 Axes>"
      ]
     },
     "metadata": {
      "needs_background": "light"
     },
     "output_type": "display_data"
    }
   ],
   "source": [
    "plt.plot(lv1.midPrice.loc[events[2] : events[2]+datetime.timedelta(seconds=60)]);"
   ]
  },
  {
   "cell_type": "code",
   "execution_count": 24,
   "metadata": {
    "ExecuteTime": {
     "end_time": "2020-03-22T13:32:43.202646Z",
     "start_time": "2020-03-22T13:32:43.187739Z"
    }
   },
   "outputs": [
    {
     "data": {
      "text/plain": [
       "DatetimeIndex(['2020-03-01 02:55:45.075000', '2020-03-01 07:50:27.864000',\n",
       "               '2020-03-01 09:12:50.039000', '2020-03-01 09:52:13.977000',\n",
       "               '2020-03-01 23:17:56.674000'],\n",
       "              dtype='datetime64[ns]', name='rcvTime', freq=None)"
      ]
     },
     "execution_count": 24,
     "metadata": {},
     "output_type": "execute_result"
    }
   ],
   "source": [
    "events"
   ]
  },
  {
   "cell_type": "code",
   "execution_count": 25,
   "metadata": {
    "ExecuteTime": {
     "end_time": "2020-03-22T13:32:44.488808Z",
     "start_time": "2020-03-22T13:32:43.767227Z"
    }
   },
   "outputs": [
    {
     "data": {
      "text/html": [
       "<div>\n",
       "<style scoped>\n",
       "    .dataframe tbody tr th:only-of-type {\n",
       "        vertical-align: middle;\n",
       "    }\n",
       "\n",
       "    .dataframe tbody tr th {\n",
       "        vertical-align: top;\n",
       "    }\n",
       "\n",
       "    .dataframe thead th {\n",
       "        text-align: right;\n",
       "    }\n",
       "</style>\n",
       "<table border=\"1\" class=\"dataframe\">\n",
       "  <thead>\n",
       "    <tr style=\"text-align: right;\">\n",
       "      <th></th>\n",
       "      <th>t0</th>\n",
       "      <th>ret</th>\n",
       "    </tr>\n",
       "  </thead>\n",
       "  <tbody>\n",
       "    <tr>\n",
       "      <th>0</th>\n",
       "      <td>2020-03-01 02:55:45.075</td>\n",
       "      <td>64436.054488</td>\n",
       "    </tr>\n",
       "    <tr>\n",
       "      <th>1</th>\n",
       "      <td>2020-03-01 07:50:27.864</td>\n",
       "      <td>13239.625415</td>\n",
       "    </tr>\n",
       "    <tr>\n",
       "      <th>2</th>\n",
       "      <td>2020-03-01 09:12:50.039</td>\n",
       "      <td>-51969.652849</td>\n",
       "    </tr>\n",
       "    <tr>\n",
       "      <th>3</th>\n",
       "      <td>2020-03-01 09:52:13.977</td>\n",
       "      <td>33241.665084</td>\n",
       "    </tr>\n",
       "    <tr>\n",
       "      <th>4</th>\n",
       "      <td>2020-03-01 23:17:56.674</td>\n",
       "      <td>-23082.130662</td>\n",
       "    </tr>\n",
       "  </tbody>\n",
       "</table>\n",
       "</div>"
      ],
      "text/plain": [
       "                       t0           ret\n",
       "0 2020-03-01 02:55:45.075  64436.054488\n",
       "1 2020-03-01 07:50:27.864  13239.625415\n",
       "2 2020-03-01 09:12:50.039 -51969.652849\n",
       "3 2020-03-01 09:52:13.977  33241.665084\n",
       "4 2020-03-01 23:17:56.674 -23082.130662"
      ]
     },
     "execution_count": 25,
     "metadata": {},
     "output_type": "execute_result"
    }
   ],
   "source": [
    "integratedReturn(events=events, midPrice=lv1.midPrice, theta_ver=datetime.timedelta(seconds=60))"
   ]
  },
  {
   "cell_type": "markdown",
   "metadata": {},
   "source": [
    "---"
   ]
  },
  {
   "cell_type": "code",
   "execution_count": 4,
   "metadata": {
    "ExecuteTime": {
     "end_time": "2020-04-10T10:26:04.843727Z",
     "start_time": "2020-04-10T10:26:04.829440Z"
    }
   },
   "outputs": [],
   "source": [
    "import bar"
   ]
  },
  {
   "cell_type": "code",
   "execution_count": null,
   "metadata": {
    "ExecuteTime": {
     "start_time": "2020-04-10T10:26:08.416Z"
    }
   },
   "outputs": [
    {
     "name": "stdout",
     "output_type": "stream",
     "text": [
      "30\n",
      "40\n"
     ]
    }
   ],
   "source": [
    "N = 100000\n",
    "q = np.arange(0.0, 0.0101, 0.0005)\n",
    "q[0] = 0.0001\n",
    "res = pd.DataFrame()\n",
    "arr = np.ones(N)\n",
    "for W in range(30, 1001, 10):\n",
    "    print(W)\n",
    "    for i in range(N): arr[i] = bar._fisher_exact_test_main(np.random.normal(size=W))[2]\n",
    "    d = pd.DataFrame({\"W\":np.ones(q.shape[0])*W, \"q\":q*100, \"theta_p\":np.quantile(arr, q=q)})\n",
    "    res = res.append(d)"
   ]
  },
  {
   "cell_type": "code",
   "execution_count": null,
   "metadata": {
    "ExecuteTime": {
     "start_time": "2020-04-10T10:26:09.912Z"
    }
   },
   "outputs": [],
   "source": [
    "res.to_csv(\"fisher_effPval.csv\",index=False)"
   ]
  }
 ],
 "metadata": {
  "kernelspec": {
   "display_name": "anaconda3530",
   "language": "python",
   "name": "anaconda3530"
  },
  "language_info": {
   "codemirror_mode": {
    "name": "ipython",
    "version": 3
   },
   "file_extension": ".py",
   "mimetype": "text/x-python",
   "name": "python",
   "nbconvert_exporter": "python",
   "pygments_lexer": "ipython3",
   "version": "3.7.0"
  }
 },
 "nbformat": 4,
 "nbformat_minor": 2
}
